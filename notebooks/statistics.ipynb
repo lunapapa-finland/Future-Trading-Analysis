{
 "cells": [
  {
   "cell_type": "code",
   "execution_count": 29,
   "metadata": {},
   "outputs": [],
   "source": [
    "import pandas as pd\n",
    "import os\n",
    "from src.utils.get_data import *\n",
    "\n",
    "\n"
   ]
  },
  {
   "cell_type": "code",
   "execution_count": 30,
   "metadata": {},
   "outputs": [],
   "source": [
    "# Path to the directory containing CSV files\n",
    "directory = '../data/future/MNQM24'\n",
    "\n",
    "# Initialize an empty list to store DataFrames\n",
    "dfs = []\n",
    "\n",
    "# Iterate through all files in the directory\n",
    "for filename in os.listdir(directory):\n",
    "    if  '5min' in filename and filename.endswith('.csv'):\n",
    "        \n",
    "        # Construct the full file path\n",
    "        filepath = os.path.join(directory, filename)\n",
    "        \n",
    "        # Read the CSV file into a DataFrame\n",
    "        df = pd.read_csv(filepath)\n",
    "\n",
    "        dfs.append(df)\n",
    "\n",
    "# Concatenate all DataFrames vertically\n",
    "df_overall = pd.concat(dfs, ignore_index=True)\n"
   ]
  },
  {
   "cell_type": "code",
   "execution_count": 31,
   "metadata": {},
   "outputs": [],
   "source": [
    "\n",
    "df_overall['Datetime'] = pd.to_datetime(df_overall['Datetime'])\n",
    "df_overall.set_index('Datetime', inplace=True)\n",
    "\n",
    "# 1. Convert the 'Datetime' column to datetime if it's not already in datetime format\n",
    "df_overall.index = pd.to_datetime(df_overall.index)\n",
    "\n",
    "# 2. Filter rows within the specified time range directly using the index\n",
    "df_overall_rth = df_overall[(df_overall.index.time >= pd.Timestamp('09:30').time()) & (df_overall.index.time <= pd.Timestamp('16:10').time())]"
   ]
  },
  {
   "cell_type": "code",
   "execution_count": 33,
   "metadata": {},
   "outputs": [
    {
     "name": "stderr",
     "output_type": "stream",
     "text": [
      "/var/folders/cp/1g7t_8rd6kq_6f843vp6sg700000gn/T/ipykernel_7311/736529097.py:1: SettingWithCopyWarning: \n",
      "A value is trying to be set on a copy of a slice from a DataFrame.\n",
      "Try using .loc[row_indexer,col_indexer] = value instead\n",
      "\n",
      "See the caveats in the documentation: https://pandas.pydata.org/pandas-docs/stable/user_guide/indexing.html#returning-a-view-versus-a-copy\n",
      "  df_overall_rth['difference'] = df_overall_rth['High'] - df_overall_rth['Low']\n"
     ]
    },
    {
     "data": {
      "text/plain": [
       "27.707990115321252"
      ]
     },
     "execution_count": 33,
     "metadata": {},
     "output_type": "execute_result"
    }
   ],
   "source": [
    "df_overall_rth['difference'] = df_overall_rth['High'] - df_overall_rth['Low']\n",
    "df_overall_rth['difference'].mean()"
   ]
  }
 ],
 "metadata": {
  "kernelspec": {
   "display_name": "finance_env",
   "language": "python",
   "name": "python3"
  },
  "language_info": {
   "codemirror_mode": {
    "name": "ipython",
    "version": 3
   },
   "file_extension": ".py",
   "mimetype": "text/x-python",
   "name": "python",
   "nbconvert_exporter": "python",
   "pygments_lexer": "ipython3",
   "version": "3.9.6"
  }
 },
 "nbformat": 4,
 "nbformat_minor": 2
}
