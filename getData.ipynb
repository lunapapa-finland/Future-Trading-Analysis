{
 "cells": [
  {
   "cell_type": "code",
   "execution_count": 1,
   "metadata": {},
   "outputs": [],
   "source": [
    "import yfinance as yf\n",
    "import pandas as pd"
   ]
  },
  {
   "cell_type": "code",
   "execution_count": 2,
   "metadata": {},
   "outputs": [
    {
     "name": "stderr",
     "output_type": "stream",
     "text": [
      "[*********************100%%**********************]  1 of 1 completed"
     ]
    },
    {
     "name": "stdout",
     "output_type": "stream",
     "text": [
      "Data saved to ./RTH/nasdaq_100_5min_data_2024-04-12.csv\n"
     ]
    },
    {
     "name": "stderr",
     "output_type": "stream",
     "text": [
      "\n"
     ]
    }
   ],
   "source": [
    "# Define the ticker symbol for the NASDAQ 100 Index\n",
    "ticker = \"NQM24.CME\"  # This symbol represents the NASDAQ 100 index, adjust if you have a specific futures ticker\n",
    "\n",
    "# Set the period to '1d' for daily data, and interval to '5m' for 5-minute intervals\n",
    "df = yf.download(tickers=ticker, period=\"1d\", interval=\"5m\")\n",
    "\n",
    "# Extract the date from the first index\n",
    "date_str = str(df.index[0].date())\n",
    "\n",
    "# Define the folder path\n",
    "folder_path = \".data//TradingData/\"\n",
    "\n",
    "# Save the data to a CSV file with the date in the filename within the specified folder\n",
    "file_name = folder_path + f\"nasdaq_100_5min_data_{date_str}.csv\"\n",
    "\n",
    "df.to_csv(file_name)\n",
    "\n",
    "print(f\"Data saved to {file_name}\")"
   ]
  }
 ],
 "metadata": {
  "kernelspec": {
   "display_name": "Python 3",
   "language": "python",
   "name": "python3"
  },
  "language_info": {
   "codemirror_mode": {
    "name": "ipython",
    "version": 3
   },
   "file_extension": ".py",
   "mimetype": "text/x-python",
   "name": "python",
   "nbconvert_exporter": "python",
   "pygments_lexer": "ipython3",
   "version": "3.8.18"
  }
 },
 "nbformat": 4,
 "nbformat_minor": 2
}
