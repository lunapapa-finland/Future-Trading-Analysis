{
 "cells": [
  {
   "cell_type": "code",
   "execution_count": 11,
   "metadata": {},
   "outputs": [],
   "source": [
    "import yfinance as yf\n",
    "import pandas as pd\n",
    "from datetime import datetime\n",
    "import os"
   ]
  },
  {
   "cell_type": "code",
   "execution_count": 12,
   "metadata": {},
   "outputs": [],
   "source": [
    "## Define Date, usually you only need one day\n",
    "\n",
    "# Define the start and end dates\n",
    "start_date = datetime(2024, 4, 17)\n",
    "end_date = start_date + pd.Timedelta(days=1)  # Assuming you want data for one day"
   ]
  },
  {
   "cell_type": "code",
   "execution_count": 13,
   "metadata": {},
   "outputs": [
    {
     "name": "stderr",
     "output_type": "stream",
     "text": [
      "[*********************100%%**********************]  1 of 1 completed"
     ]
    },
    {
     "name": "stderr",
     "output_type": "stream",
     "text": [
      "\n",
      "[*********************100%%**********************]  1 of 1 completed"
     ]
    },
    {
     "name": "stdout",
     "output_type": "stream",
     "text": [
      "Data saved to ./data/TradingData/MESM24/MESM24_5min_data_2024-04-17.csv\n",
      "Data saved to ./data/TradingData/MNQM24/MNQM24_5min_data_2024-04-17.csv\n"
     ]
    },
    {
     "name": "stderr",
     "output_type": "stream",
     "text": [
      "\n"
     ]
    }
   ],
   "source": [
    "# Define the ticker symbol for the NASDAQ 100 Index\n",
    "tickers = [\"MESM24.CME\", \"MNQM24.CME\"]  \n",
    "for ticker in tickers:\n",
    "    # Download data\n",
    "    df = yf.download(tickers=ticker, start=start_date, end=end_date, interval=\"5m\")\n",
    "\n",
    "    # Extract the date from the first index\n",
    "    date_str = str(df.index[0].date())\n",
    "\n",
    "    # Define the folder path\n",
    "    folder_path = f\"./data/TradingData/{ticker.split('.')[0]}\"\n",
    "\n",
    "    # Create the folder if it doesn't exist\n",
    "    if not os.path.exists(folder_path):\n",
    "        os.makedirs(folder_path)\n",
    "\n",
    "    # Save the data to a CSV file with the date in the filename within the specified folder\n",
    "    file_name = f\"{ticker.split('.')[0]}_5min_data_{date_str}.csv\"\n",
    "    file_path = os.path.join(folder_path, file_name)\n",
    "\n",
    "    df.to_csv(file_path)\n",
    "\n",
    "    print(f\"Data saved to {file_path}\")"
   ]
  }
 ],
 "metadata": {
  "kernelspec": {
   "display_name": "Python 3",
   "language": "python",
   "name": "python3"
  },
  "language_info": {
   "codemirror_mode": {
    "name": "ipython",
    "version": 3
   },
   "file_extension": ".py",
   "mimetype": "text/x-python",
   "name": "python",
   "nbconvert_exporter": "python",
   "pygments_lexer": "ipython3",
   "version": "3.9.6"
  }
 },
 "nbformat": 4,
 "nbformat_minor": 2
}
