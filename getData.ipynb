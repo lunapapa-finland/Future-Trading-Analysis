{
 "cells": [
  {
   "cell_type": "code",
   "execution_count": 1,
   "metadata": {},
   "outputs": [
    {
     "name": "stderr",
     "output_type": "stream",
     "text": [
      "/Users/ali/Library/Python/3.9/lib/python/site-packages/urllib3/__init__.py:34: NotOpenSSLWarning: urllib3 v2 only supports OpenSSL 1.1.1+, currently the 'ssl' module is compiled with 'LibreSSL 2.8.3'. See: https://github.com/urllib3/urllib3/issues/3020\n",
      "  warnings.warn(\n"
     ]
    }
   ],
   "source": [
    "import yfinance as yf\n",
    "import pandas as pd\n",
    "from datetime import datetime"
   ]
  },
  {
   "cell_type": "code",
   "execution_count": 2,
   "metadata": {},
   "outputs": [],
   "source": [
    "## Define Date, usually you only need one day\n",
    "\n",
    "# Define the start and end dates\n",
    "start_date = datetime(2024, 4, 15)\n",
    "end_date = start_date + pd.Timedelta(days=1)  # Assuming you want data for one day"
   ]
  },
  {
   "cell_type": "code",
   "execution_count": 3,
   "metadata": {},
   "outputs": [
    {
     "name": "stderr",
     "output_type": "stream",
     "text": [
      "[*********************100%%**********************]  1 of 1 completed"
     ]
    },
    {
     "name": "stdout",
     "output_type": "stream",
     "text": [
      "Data saved to ./data/TradingData/nasdaq_100_5min_data_2024-04-15.csv\n"
     ]
    },
    {
     "name": "stderr",
     "output_type": "stream",
     "text": [
      "\n"
     ]
    }
   ],
   "source": [
    "# Define the ticker symbol for the NASDAQ 100 Index\n",
    "ticker = \"NQM24.CME\"  # This symbol represents the NASDAQ 100 index, adjust if you have a specific futures ticker\n",
    "\n",
    "# Download data\n",
    "df = yf.download(tickers=ticker, start=start_date, end=end_date, interval=\"5m\")\n",
    "\n",
    "# Extract the date from the first index\n",
    "date_str = str(df.index[0].date())\n",
    "\n",
    "# Define the folder path\n",
    "folder_path = \"./data/TradingData/\"\n",
    "\n",
    "# Save the data to a CSV file with the date in the filename within the specified folder\n",
    "file_name = folder_path + f\"nasdaq_100_5min_data_{date_str}.csv\"\n",
    "\n",
    "df.to_csv(file_name)\n",
    "\n",
    "print(f\"Data saved to {file_name}\")"
   ]
  }
 ],
 "metadata": {
  "kernelspec": {
   "display_name": "Python 3",
   "language": "python",
   "name": "python3"
  },
  "language_info": {
   "codemirror_mode": {
    "name": "ipython",
    "version": 3
   },
   "file_extension": ".py",
   "mimetype": "text/x-python",
   "name": "python",
   "nbconvert_exporter": "python",
   "pygments_lexer": "ipython3",
   "version": "3.9.6"
  }
 },
 "nbformat": 4,
 "nbformat_minor": 2
}
