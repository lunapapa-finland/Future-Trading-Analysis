{
 "cells": [
  {
   "cell_type": "code",
   "execution_count": 18,
   "metadata": {},
   "outputs": [
    {
     "name": "stdout",
     "output_type": "stream",
     "text": [
      "Saved: ../data/performance/Performance_2024-10-28.csv\n",
      "Saved: ../data/performance/Performance_2024-10-29.csv\n",
      "Saved: ../data/performance/Performance_2024-10-30.csv\n",
      "Saved: ../data/performance/Performance_2024-10-31.csv\n",
      "Saved: ../data/performance/Performance_2024-11-01.csv\n",
      "Deleted: ../data/performance/trades_export.csv\n"
     ]
    }
   ],
   "source": [
    "import numpy as np\n",
    "import pandas as pd \n",
    "import os\n",
    "import sys  \n",
    "\n",
    "original_file_path = '../data/performance/trades_export.csv'\n",
    "#check if the file exists\n",
    "if not os.path.exists(original_file_path):\n",
    "    raise ValueError(f\"File not found: {original_file_path}\")\n",
    "\n",
    "\n",
    "df = pd.read_csv(original_file_path)\n",
    "\n",
    "# Convert 'EnteredAt' to datetime format\n",
    "df['EnteredAt'] = pd.to_datetime(df['EnteredAt'])\n",
    "df['ExitedAt'] = pd.to_datetime(df['ExitedAt'])\n",
    "\n",
    "# Sort the DataFrame by 'EnteredAt'\n",
    "df = df.sort_values(by='EnteredAt').reset_index(drop=True)\n",
    "\n",
    "# Extract date part from 'EnteredAt' to use for grouping\n",
    "df['Date'] = df['EnteredAt'].dt.date\n",
    "\n",
    "\n",
    "# Group by the 'Date' column\n",
    "for date, group in df.groupby('Date'):\n",
    "    # Convert the date to the required string format yyyy-mm-dd\n",
    "    date_str = date.strftime('%Y-%m-%d')\n",
    "    \n",
    "    # Define the file name\n",
    "    file_name = f\"../data/performance/Performance_{date_str}.csv\"\n",
    "    \n",
    "    # Save the group to a CSV file\n",
    "    group.drop(columns=['Date'], inplace=True)  # Optional: Drop the extra 'Date' column if not needed\n",
    "    group['EnteredAt'] = group['EnteredAt'].dt.strftime('%m/%d/%Y %H:%M:%S %z')  # Format with time and timezone\n",
    "    group['ExitedAt'] = group['ExitedAt'].dt.strftime('%m/%d/%Y %H:%M:%S %z')  # Format with time and timezone\n",
    "\n",
    "    group.to_csv(file_name, index=False)\n",
    "    print(f\"Saved: {file_name}\")\n",
    "\n",
    "\n",
    "\n",
    "if os.path.exists(original_file_path):\n",
    "    os.remove(original_file_path)\n",
    "    print(f\"Deleted: {original_file_path}\")\n",
    "else:\n",
    "    print(f\"File not found: {original_file_path}\")"
   ]
  }
 ],
 "metadata": {
  "kernelspec": {
   "display_name": "finance_env",
   "language": "python",
   "name": "python3"
  },
  "language_info": {
   "codemirror_mode": {
    "name": "ipython",
    "version": 3
   },
   "file_extension": ".py",
   "mimetype": "text/x-python",
   "name": "python",
   "nbconvert_exporter": "python",
   "pygments_lexer": "ipython3",
   "version": "3.9.6"
  }
 },
 "nbformat": 4,
 "nbformat_minor": 2
}
